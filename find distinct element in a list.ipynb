{
 "cells": [
  {
   "cell_type": "code",
   "execution_count": null,
   "id": "f1348ab9-69a6-4b18-a783-6b5d1dddfbb6",
   "metadata": {},
   "outputs": [],
   "source": [
    "n=int(input())    \n",
    "a=[]\n",
    "for i in range(n):\n",
    "    b=input()\n",
    "    a.append(b)\n",
    "d=set(a)\n",
    "l=len(d)\n",
    "print(l)\n"
   ]
  }
 ],
 "metadata": {
  "kernelspec": {
   "display_name": "Python 3 (ipykernel)",
   "language": "python",
   "name": "python3"
  },
  "language_info": {
   "codemirror_mode": {
    "name": "ipython",
    "version": 3
   },
   "file_extension": ".py",
   "mimetype": "text/x-python",
   "name": "python",
   "nbconvert_exporter": "python",
   "pygments_lexer": "ipython3",
   "version": "3.12.4"
  }
 },
 "nbformat": 4,
 "nbformat_minor": 5
}
