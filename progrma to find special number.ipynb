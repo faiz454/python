{
 "cells": [
  {
   "cell_type": "code",
   "execution_count": 4,
   "id": "3ba248b3-2a77-45f9-ae14-93764d297b6a",
   "metadata": {},
   "outputs": [
    {
     "name": "stdin",
     "output_type": "stream",
     "text": [
      "enter number 19\n"
     ]
    },
    {
     "name": "stdout",
     "output_type": "stream",
     "text": [
      "first dig 1\n",
      "second digit 9\n",
      "it's a special number\n"
     ]
    }
   ],
   "source": [
    "n=int(input(\"enter number\"))\n",
    "first=n//10\n",
    "sec=n%10\n",
    "print(\"first dig\",first)\n",
    "print(\"second digit\",sec)\n",
    "s=first+sec\n",
    "pro=first*sec\n",
    "if (s+pro)==n:\n",
    "    print(\"it's a special number\")\n",
    "else:\n",
    "    print(\"it's not a special number\")\n",
    "    "
   ]
  },
  {
   "cell_type": "code",
   "execution_count": null,
   "id": "6fac862e-7a33-4b80-8553-91f8417b9694",
   "metadata": {},
   "outputs": [],
   "source": []
  }
 ],
 "metadata": {
  "kernelspec": {
   "display_name": "Python 3 (ipykernel)",
   "language": "python",
   "name": "python3"
  },
  "language_info": {
   "codemirror_mode": {
    "name": "ipython",
    "version": 3
   },
   "file_extension": ".py",
   "mimetype": "text/x-python",
   "name": "python",
   "nbconvert_exporter": "python",
   "pygments_lexer": "ipython3",
   "version": "3.12.4"
  }
 },
 "nbformat": 4,
 "nbformat_minor": 5
}
