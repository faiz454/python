{
 "cells": [
  {
   "cell_type": "code",
   "execution_count": 5,
   "id": "e8597627-aac1-483d-8885-94670aeb0774",
   "metadata": {},
   "outputs": [
    {
     "name": "stdin",
     "output_type": "stream",
     "text": [
      "Enter the elements of the tuple (comma-separated):  p,t,h,y,o,n\n",
      "Enter the item to find the index of:  h\n"
     ]
    },
    {
     "name": "stdout",
     "output_type": "stream",
     "text": [
      "The index of h is 2\n"
     ]
    }
   ],
   "source": [
    "tuple_input = input(\"Enter the elements of the tuple (comma-separated): \") \n",
    "input_tuple = tuple(tuple_input.split(',')) \n",
    "item_to_find = input(\"Enter the item to find the index of: \") \n",
    "if item_to_find in input_tuple: \n",
    "    index = input_tuple.index(item_to_find) \n",
    "    print(\"The index of\" ,item_to_find ,\"is\" ,index) \n",
    "else: \n",
    "    print(\"The item\", item_to_find,\" is not in the tuple.\")"
   ]
  },
  {
   "cell_type": "code",
   "execution_count": null,
   "id": "cd3e0c8f-f08b-4459-a340-ac04cd5dccc3",
   "metadata": {},
   "outputs": [],
   "source": []
  }
 ],
 "metadata": {
  "kernelspec": {
   "display_name": "Python 3 (ipykernel)",
   "language": "python",
   "name": "python3"
  },
  "language_info": {
   "codemirror_mode": {
    "name": "ipython",
    "version": 3
   },
   "file_extension": ".py",
   "mimetype": "text/x-python",
   "name": "python",
   "nbconvert_exporter": "python",
   "pygments_lexer": "ipython3",
   "version": "3.12.4"
  }
 },
 "nbformat": 4,
 "nbformat_minor": 5
}
