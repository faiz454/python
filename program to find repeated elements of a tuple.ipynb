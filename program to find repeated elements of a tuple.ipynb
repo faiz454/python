{
 "cells": [
  {
   "cell_type": "code",
   "execution_count": 1,
   "id": "9926ffa1-10a5-4d02-a8ff-f1524f5f4dc3",
   "metadata": {},
   "outputs": [
    {
     "name": "stdin",
     "output_type": "stream",
     "text": [
      "Enter the elements of the tuple (comma-separated):  2,4,5,6,2,3,4,4,7\n",
      "Enter the item to count:  4\n"
     ]
    },
    {
     "name": "stdout",
     "output_type": "stream",
     "text": [
      "4 is repeated 3 times\n"
     ]
    }
   ],
   "source": [
    "tuple_input = input(\"Enter the elements of the tuple (comma-separated): \") \n",
    "input_tuple = tuple(map(int, tuple_input.split(','))) \n",
    "item_to_count = int(input(\"Enter the item to count: \")) \n",
    "item_count = input_tuple.count(item_to_count) \n",
    "print(item_to_count,\"is repeated\",item_count,\"times\")"
   ]
  },
  {
   "cell_type": "code",
   "execution_count": null,
   "id": "0656f2e0-a297-491b-8a05-1ef5477deb4c",
   "metadata": {},
   "outputs": [],
   "source": []
  }
 ],
 "metadata": {
  "kernelspec": {
   "display_name": "Python 3 (ipykernel)",
   "language": "python",
   "name": "python3"
  },
  "language_info": {
   "codemirror_mode": {
    "name": "ipython",
    "version": 3
   },
   "file_extension": ".py",
   "mimetype": "text/x-python",
   "name": "python",
   "nbconvert_exporter": "python",
   "pygments_lexer": "ipython3",
   "version": "3.12.4"
  }
 },
 "nbformat": 4,
 "nbformat_minor": 5
}
