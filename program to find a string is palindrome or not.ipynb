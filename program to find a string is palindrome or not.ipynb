{
 "cells": [
  {
   "cell_type": "code",
   "execution_count": 3,
   "id": "d9663ce1-0510-4a8b-b9b3-fe98976e2558",
   "metadata": {},
   "outputs": [
    {
     "name": "stdin",
     "output_type": "stream",
     "text": [
      "enter string rate\n"
     ]
    },
    {
     "name": "stdout",
     "output_type": "stream",
     "text": [
      "the guven string is not palindrome\n",
      "rate\n"
     ]
    }
   ],
   "source": [
    "def pali(s):\n",
    "    if s==s[::-1]:\n",
    "        print(\"the given string is palindrome\")\n",
    "    else:\n",
    "        print(\"the given string is not palindrome\")\n",
    "    return s\n",
    "s=input(\"enter string\")\n",
    "print(pali(s))"
   ]
  },
  {
   "cell_type": "code",
   "execution_count": null,
   "id": "43a7f97c-967a-47a6-b647-c9a8b38e2e5f",
   "metadata": {},
   "outputs": [],
   "source": []
  }
 ],
 "metadata": {
  "kernelspec": {
   "display_name": "Python 3 (ipykernel)",
   "language": "python",
   "name": "python3"
  },
  "language_info": {
   "codemirror_mode": {
    "name": "ipython",
    "version": 3
   },
   "file_extension": ".py",
   "mimetype": "text/x-python",
   "name": "python",
   "nbconvert_exporter": "python",
   "pygments_lexer": "ipython3",
   "version": "3.12.4"
  }
 },
 "nbformat": 4,
 "nbformat_minor": 5
}
