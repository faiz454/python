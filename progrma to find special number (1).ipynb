{
 "cells": [
  {
   "cell_type": "code",
   "execution_count": 4,
   "id": "3ba248b3-2a77-45f9-ae14-93764d297b6a",
   "metadata": {},
   "outputs": [
    {
     "name": "stdin",
     "output_type": "stream",
     "text": [
      "enter number 19\n"
     ]
    },
    {
     "name": "stdout",
     "output_type": "stream",
     "text": [
      "first dig 1\n",
      "second digit 9\n",
      "it's a special number\n"
     ]
    }
   ],
   "source": [
    "n=int(input(\"enter number\"))\n",
    "first=n//10\n",
    "sec=n%10\n",
    "print(\"first dig\",first)\n",
    "print(\"second digit\",sec)\n",
    "s=first+sec\n",
    "pro=first*sec\n",
    "if (s+pro)==n:\n",
    "    print(\"it's a special number\")\n",
    "else:\n",
    "    print(\"it's not a special number\")\n",
    "    "
   ]
  },
  {
   "cell_type": "code",
   "execution_count": null,
   "id": "4f7f4602-9ee6-4c18-bb96-cd8b72807045",
   "metadata": {},
   "outputs": [],
   "source": [
    "n=int(input(\"enter number\"))\n",
    "m=int(input(\"enter number\"))\n",
    "for i in range(n,m+1):\n",
    "    first=i//10\n",
    "    second=i%10\n",
    "\n",
    "    sum=first+second\n",
    "    prod=first*second\n",
    "    if (sum+prod)==i:\n",
    "        print(i,\"yes,its a special number\")\n",
    "    else:\n",
    "        print(i,\"not a special number\")"
   ]
  },
  {
   "cell_type": "code",
   "execution_count": null,
   "id": "3b0d03b6-b184-4f38-be85-54143b7e23cc",
   "metadata": {},
   "outputs": [],
   "source": []
  }
 ],
 "metadata": {
  "kernelspec": {
   "display_name": "Python 3 (ipykernel)",
   "language": "python",
   "name": "python3"
  },
  "language_info": {
   "codemirror_mode": {
    "name": "ipython",
    "version": 3
   },
   "file_extension": ".py",
   "mimetype": "text/x-python",
   "name": "python",
   "nbconvert_exporter": "python",
   "pygments_lexer": "ipython3",
   "version": "3.12.4"
  }
 },
 "nbformat": 4,
 "nbformat_minor": 5
}
