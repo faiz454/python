{
 "cells": [
  {
   "cell_type": "code",
   "execution_count": 11,
   "id": "143983ac-0b92-49e5-8ab9-dfcb234795e1",
   "metadata": {},
   "outputs": [
    {
     "name": "stdout",
     "output_type": "stream",
     "text": [
      "[1, 2, 3, 4, 5]\n",
      "15\n"
     ]
    }
   ],
   "source": [
    "def sum_of_list(l):\n",
    "    sum=0\n",
    "    for i in range(len(l)):\n",
    "       sum=sum+l[i]\n",
    "    return sum\n",
    "\n",
    "l=[1,2,3,4,5]\n",
    "print(l)\n",
    "print(sum_of_list(l))"
   ]
  },
  {
   "cell_type": "code",
   "execution_count": null,
   "id": "2f2955d4-810e-4709-a7d7-606401a543ed",
   "metadata": {},
   "outputs": [],
   "source": []
  }
 ],
 "metadata": {
  "kernelspec": {
   "display_name": "Python 3 (ipykernel)",
   "language": "python",
   "name": "python3"
  },
  "language_info": {
   "codemirror_mode": {
    "name": "ipython",
    "version": 3
   },
   "file_extension": ".py",
   "mimetype": "text/x-python",
   "name": "python",
   "nbconvert_exporter": "python",
   "pygments_lexer": "ipython3",
   "version": "3.12.4"
  }
 },
 "nbformat": 4,
 "nbformat_minor": 5
}
