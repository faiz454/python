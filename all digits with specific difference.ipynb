{
 "cells": [
  {
   "cell_type": "code",
   "execution_count": null,
   "id": "5a80f93d-286b-421c-aacf-7c3dc1d8decb",
   "metadata": {},
   "outputs": [],
   "source": [
    "n=13\n",
    "d=2\n",
    "low=1\n",
    "high=13\n",
    "while low<=high:\n",
    "    mid=(high+low)//2\n",
    "    sum_d=sum(int(i)for i in str(mid))\n",
    "    diff=mid=sum_d\n",
    "    if abs(diff)<=2:\n",
    "        low=mid+1\n",
    "    else:\n",
    "        high=mid-1+\n",
    "\n",
    "result=n-high\n",
    "print(result)"
   ]
  },
  {
   "cell_type": "code",
   "execution_count": null,
   "id": "97abc61b-8c50-40fd-85e4-ea452d404f73",
   "metadata": {},
   "outputs": [],
   "source": [
    "a=10\n",
    "print(a"
   ]
  }
 ],
 "metadata": {
  "kernelspec": {
   "display_name": "Python 3 (ipykernel)",
   "language": "python",
   "name": "python3"
  },
  "language_info": {
   "codemirror_mode": {
    "name": "ipython",
    "version": 3
   },
   "file_extension": ".py",
   "mimetype": "text/x-python",
   "name": "python",
   "nbconvert_exporter": "python",
   "pygments_lexer": "ipython3",
   "version": "3.12.4"
  }
 },
 "nbformat": 4,
 "nbformat_minor": 5
}
