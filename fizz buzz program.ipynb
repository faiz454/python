{
 "cells": [
  {
   "cell_type": "code",
   "execution_count": 3,
   "id": "5cd402a9-8fec-41bc-ae51-ca80f6560a65",
   "metadata": {},
   "outputs": [
    {
     "name": "stdout",
     "output_type": "stream",
     "text": [
      "nothing\n",
      "nothing\n",
      "fizz\n",
      "nothing\n",
      "buzz\n",
      "fizz\n",
      "nothing\n",
      "nothing\n",
      "fizz\n",
      "buzz\n",
      "nothing\n",
      "fizz\n",
      "nothing\n",
      "nothing\n",
      "fizz\n",
      "nothing\n"
     ]
    }
   ],
   "source": [
    "for i in range(1,17):\n",
    "    if i%3==0:\n",
    "        print('fizz')\n",
    "    elif i%5==0:\n",
    "        print(\"buzz\")\n",
    "    elif i%3==0 and i%5==0:\n",
    "        print(\"fizzbuzz\")\n",
    "    else:\n",
    "        print(\"nothing\")\n",
    "    "
   ]
  }
 ],
 "metadata": {
  "kernelspec": {
   "display_name": "Python 3 (ipykernel)",
   "language": "python",
   "name": "python3"
  },
  "language_info": {
   "codemirror_mode": {
    "name": "ipython",
    "version": 3
   },
   "file_extension": ".py",
   "mimetype": "text/x-python",
   "name": "python",
   "nbconvert_exporter": "python",
   "pygments_lexer": "ipython3",
   "version": "3.12.4"
  }
 },
 "nbformat": 4,
 "nbformat_minor": 5
}
